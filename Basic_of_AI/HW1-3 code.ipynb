{
  "cells": [
    {
      "cell_type": "markdown",
      "metadata": {
        "id": "MhoQ0WE77laV"
      },
      "source": [
        "##### Copyright 2018 The TensorFlow Authors."
      ]
    },
    {
      "cell_type": "code",
      "execution_count": null,
      "metadata": {
        "cellView": "form",
        "id": "_ckMIh7O7s6D"
      },
      "outputs": [],
      "source": [
        "#@title Licensed under the Apache License, Version 2.0 (the \"License\");\n",
        "# you may not use this file except in compliance with the License.\n",
        "# You may obtain a copy of the License at\n",
        "#\n",
        "# https://www.apache.org/licenses/LICENSE-2.0\n",
        "#\n",
        "# Unless required by applicable law or agreed to in writing, software\n",
        "# distributed under the License is distributed on an \"AS IS\" BASIS,\n",
        "# WITHOUT WARRANTIES OR CONDITIONS OF ANY KIND, either express or implied.\n",
        "# See the License for the specific language governing permissions and\n",
        "# limitations under the License."
      ]
    },
    {
      "cell_type": "code",
      "execution_count": null,
      "metadata": {
        "cellView": "form",
        "id": "vasWnqRgy1H4"
      },
      "outputs": [],
      "source": [
        "#@title MIT License\n",
        "#\n",
        "# Copyright (c) 2017 François Chollet\n",
        "#\n",
        "# Permission is hereby granted, free of charge, to any person obtaining a\n",
        "# copy of this software and associated documentation files (the \"Software\"),\n",
        "# to deal in the Software without restriction, including without limitation\n",
        "# the rights to use, copy, modify, merge, publish, distribute, sublicense,\n",
        "# and/or sell copies of the Software, and to permit persons to whom the\n",
        "# Software is furnished to do so, subject to the following conditions:\n",
        "#\n",
        "# The above copyright notice and this permission notice shall be included in\n",
        "# all copies or substantial portions of the Software.\n",
        "#\n",
        "# THE SOFTWARE IS PROVIDED \"AS IS\", WITHOUT WARRANTY OF ANY KIND, EXPRESS OR\n",
        "# IMPLIED, INCLUDING BUT NOT LIMITED TO THE WARRANTIES OF MERCHANTABILITY,\n",
        "# FITNESS FOR A PARTICULAR PURPOSE AND NONINFRINGEMENT. IN NO EVENT SHALL\n",
        "# THE AUTHORS OR COPYRIGHT HOLDERS BE LIABLE FOR ANY CLAIM, DAMAGES OR OTHER\n",
        "# LIABILITY, WHETHER IN AN ACTION OF CONTRACT, TORT OR OTHERWISE, ARISING\n",
        "# FROM, OUT OF OR IN CONNECTION WITH THE SOFTWARE OR THE USE OR OTHER\n",
        "# DEALINGS IN THE SOFTWARE."
      ]
    },
    {
      "cell_type": "markdown",
      "metadata": {
        "id": "jYysdyb-CaWM"
      },
      "source": [
        "# 기본 분류: 의류 이미지 분류"
      ]
    },
    {
      "cell_type": "markdown",
      "metadata": {
        "id": "S5Uhzt6vVIB2"
      },
      "source": [
        "<table class=\"tfo-notebook-buttons\" align=\"left\">\n",
        "  <td>     <a target=\"_blank\" href=\"https://www.tensorflow.org/tutorials/keras/classification\"><img src=\"https://www.tensorflow.org/images/tf_logo_32px.png\">TensorFlow.org에서 보기</a>   </td>\n",
        "  <td><a target=\"_blank\" href=\"https://colab.research.google.com/github/tensorflow/docs-l10n/blob/master/site/ko/tutorials/keras/classification.ipynb\"><img src=\"https://www.tensorflow.org/images/colab_logo_32px.png\">Google Colab에서 실행</a></td>\n",
        "  <td><a target=\"_blank\" href=\"https://github.com/tensorflow/docs-l10n/blob/master/site/ko/tutorials/keras/classification.ipynb\"><img src=\"https://www.tensorflow.org/images/GitHub-Mark-32px.png\">GitHub에서 소스 보기</a></td>\n",
        "  <td><a href=\"https://storage.googleapis.com/tensorflow_docs/docs-l10n/site/ko/tutorials/keras/classification.ipynb\"><img src=\"https://www.tensorflow.org/images/download_logo_32px.png\">노트북 다운로드</a></td>\n",
        "</table>"
      ]
    },
    {
      "cell_type": "markdown",
      "metadata": {
        "id": "FbVhjPpzn6BM"
      },
      "source": [
        "이 튜토리얼에서는 운동화나 셔츠 같은 옷 이미지를 분류하는 신경망 모델을 훈련합니다. 상세 내용을 모두 이해하지 못해도 괜찮습니다. 여기서는 완전한 텐서플로(TensorFlow) 프로그램을 빠르게 살펴 보겠습니다. 자세한 내용은 앞으로 배우면서 더 설명합니다.\n",
        "\n",
        "여기에서는 텐서플로 모델을 만들고 훈련할 수 있는 고수준 API인 [tf.keras](https://www.tensorflow.org/guide/keras)를 사용합니다."
      ]
    },
    {
      "cell_type": "code",
      "execution_count": null,
      "metadata": {
        "id": "dzLKpmZICaWN",
        "colab": {
          "base_uri": "https://localhost:8080/"
        },
        "outputId": "ce17c5d4-3192-441b-9965-e3917b82776f"
      },
      "outputs": [
        {
          "output_type": "stream",
          "name": "stdout",
          "text": [
            "2.14.0\n"
          ]
        }
      ],
      "source": [
        "# TensorFlow and tf.keras\n",
        "import tensorflow as tf\n",
        "\n",
        "# Helper libraries\n",
        "import numpy as np\n",
        "import matplotlib.pyplot as plt\n",
        "\n",
        "print(tf.__version__)"
      ]
    },
    {
      "cell_type": "markdown",
      "metadata": {
        "id": "yR0EdgrLCaWR"
      },
      "source": [
        "## 패션 MNIST 데이터셋 임포트하기"
      ]
    },
    {
      "cell_type": "markdown",
      "metadata": {
        "id": "DLdCchMdCaWQ"
      },
      "source": [
        "10개의 범주(category)와 70,000개의 흑백 이미지로 구성된 [패션 MNIST](https://github.com/zalandoresearch/fashion-mnist) 데이터셋을 사용하겠습니다. 이미지는 해상도(28x28 픽셀)가 낮고 다음처럼 개별 옷 품목을 나타냅니다:\n",
        "\n",
        "<table>\n",
        "  <tr><td>     <img src=\"https://tensorflow.org/images/fashion-mnist-sprite.png\" alt=\"Fashion MNIST sprite\" width=\"600\">   </td></tr>\n",
        "  <tr><td align=\"center\">     <b>그림 1.</b> <a href=\"https://github.com/zalandoresearch/fashion-mnist\">패션-MNIST 샘플</a> (Zalando, MIT License).<br>{nbsp}   </td></tr>\n",
        "</table>\n",
        "\n",
        "패션 MNIST는 컴퓨터 비전 분야의 \"Hello, World\" 프로그램격인 고전 [MNIST](http://yann.lecun.com/exdb/mnist/) 데이터셋을 대신해서 자주 사용됩니다. MNIST 데이터셋은 손글씨 숫자(0, 1, 2 등)의 이미지로 이루어져 있습니다. 여기서 사용하려는 옷 이미지와 동일한 포맷입니다.\n",
        "\n",
        "패션 MNIST는 일반적인 MNIST 보다 조금 더 어려운 문제이고 다양한 예제를 만들기 위해 선택했습니다. 두 데이터셋은 비교적 작기 때문에 알고리즘의 작동 여부를 확인하기 위해 사용되곤 합니다. 코드를 테스트하고 디버깅하는 용도로 좋습니다.\n",
        "\n",
        "여기에서 60,000개의 이미지를 사용하여 네트워크를 훈련하고 10,000개의 이미지를 사용하여 네트워크에서 이미지 분류를 학습한 정도를 평가합니다. TensorFlow에서 직접 Fashion MNIST에 액세스할 수 있습니다. TensorFlow에서 직접 [Fashion MNIST 데이터](https://www.tensorflow.org/api_docs/python/tf/keras/datasets/fashion_mnist/load_data)를 가져오고 로드합니다."
      ]
    },
    {
      "cell_type": "code",
      "execution_count": null,
      "metadata": {
        "id": "7MqDQO0KCaWS",
        "colab": {
          "base_uri": "https://localhost:8080/"
        },
        "outputId": "17ad6d8b-da4a-442e-b337-b9796626a450"
      },
      "outputs": [
        {
          "output_type": "stream",
          "name": "stdout",
          "text": [
            "Downloading data from https://storage.googleapis.com/tensorflow/tf-keras-datasets/train-labels-idx1-ubyte.gz\n",
            "29515/29515 [==============================] - 0s 0us/step\n",
            "Downloading data from https://storage.googleapis.com/tensorflow/tf-keras-datasets/train-images-idx3-ubyte.gz\n",
            "26421880/26421880 [==============================] - 0s 0us/step\n",
            "Downloading data from https://storage.googleapis.com/tensorflow/tf-keras-datasets/t10k-labels-idx1-ubyte.gz\n",
            "5148/5148 [==============================] - 0s 0us/step\n",
            "Downloading data from https://storage.googleapis.com/tensorflow/tf-keras-datasets/t10k-images-idx3-ubyte.gz\n",
            "4422102/4422102 [==============================] - 0s 0us/step\n"
          ]
        }
      ],
      "source": [
        "fashion_mnist = tf.keras.datasets.fashion_mnist\n",
        "\n",
        "(train_images, train_labels), (test_images, test_labels) = fashion_mnist.load_data()"
      ]
    },
    {
      "cell_type": "markdown",
      "metadata": {
        "id": "t9FDsUlxCaWW"
      },
      "source": [
        "load_data() 함수를 호출하면 네 개의 넘파이(NumPy) 배열이 반환됩니다:\n",
        "\n",
        "- `train_images`와 `train_labels` 배열은 모델 학습에 사용되는 *훈련 세트*입니다.\n",
        "- `test_images`와 `test_labels` 배열은 모델 테스트에 사용되는 *테스트 세트*입니다.\n",
        "\n",
        "이미지는 28x28 크기의 넘파이 배열이고 픽셀 값은 0과 255 사이입니다. *레이블*(label)은 0에서 9까지의 정수 배열입니다. 이 값은 이미지에 있는 옷의 *클래스*(class)를 나타냅니다:\n",
        "\n",
        "<table>\n",
        "  <tr>\n",
        "    <th>레이블</th>\n",
        "    <th>클래스</th>\n",
        "  </tr>\n",
        "  <tr>\n",
        "    <td>0</td>\n",
        "    <td>T-shirt/top</td>\n",
        "  </tr>\n",
        "  <tr>\n",
        "    <td>1</td>\n",
        "    <td>Trouser</td>\n",
        "  </tr>\n",
        "    <tr>\n",
        "    <td>2</td>\n",
        "    <td>Pullover</td>\n",
        "  </tr>\n",
        "    <tr>\n",
        "    <td>3</td>\n",
        "    <td>Dress</td>\n",
        "  </tr>\n",
        "    <tr>\n",
        "    <td>4</td>\n",
        "    <td>Coat</td>\n",
        "  </tr>\n",
        "    <tr>\n",
        "    <td>5</td>\n",
        "    <td>Sandal</td>\n",
        "  </tr>\n",
        "    <tr>\n",
        "    <td>6</td>\n",
        "    <td>Shirt</td>\n",
        "  </tr>\n",
        "    <tr>\n",
        "    <td>7</td>\n",
        "    <td>Sneaker</td>\n",
        "  </tr>\n",
        "    <tr>\n",
        "    <td>8</td>\n",
        "    <td>Bag</td>\n",
        "  </tr>\n",
        "    <tr>\n",
        "    <td>9</td>\n",
        "    <td>Ankle boot</td>\n",
        "  </tr>\n",
        "</table>\n",
        "\n",
        "각 이미지는 하나의 레이블에 매핑되어 있습니다. 데이터셋에 *클래스 이름*이 들어있지 않기 때문에 나중에 이미지를 출력할 때 사용하기 위해 별도의 변수를 만들어 저장합니다:"
      ]
    },
    {
      "cell_type": "code",
      "execution_count": null,
      "metadata": {
        "id": "IjnLH5S2CaWx"
      },
      "outputs": [],
      "source": [
        "class_names = ['T-shirt/top', 'Trouser', 'Pullover', 'Dress', 'Coat',\n",
        "               'Sandal', 'Shirt', 'Sneaker', 'Bag', 'Ankle boot']"
      ]
    },
    {
      "cell_type": "markdown",
      "metadata": {
        "id": "Brm0b_KACaWX"
      },
      "source": [
        "## 데이터 탐색\n",
        "\n",
        "모델을 훈련하기 전에 데이터셋 구조를 살펴보죠. 다음 코드는 훈련 세트에 60,000개의 이미지가 있다는 것을 보여줍니다. 각 이미지는 28x28 픽셀로 표현됩니다:"
      ]
    },
    {
      "cell_type": "code",
      "execution_count": null,
      "metadata": {
        "id": "zW5k_xz1CaWX",
        "colab": {
          "base_uri": "https://localhost:8080/"
        },
        "outputId": "992eb80a-7c59-4da0-b2bc-f6a163789ee6"
      },
      "outputs": [
        {
          "output_type": "execute_result",
          "data": {
            "text/plain": [
              "(60000, 28, 28)"
            ]
          },
          "metadata": {},
          "execution_count": 4
        }
      ],
      "source": [
        "train_images.shape"
      ]
    },
    {
      "cell_type": "markdown",
      "metadata": {
        "id": "cIAcvQqMCaWf"
      },
      "source": [
        "비슷하게 훈련 세트에는 60,000개의 레이블이 있습니다:"
      ]
    },
    {
      "cell_type": "code",
      "execution_count": null,
      "metadata": {
        "id": "TRFYHB2mCaWb",
        "colab": {
          "base_uri": "https://localhost:8080/"
        },
        "outputId": "0ce5b325-8475-4445-875c-b6fd638198a6"
      },
      "outputs": [
        {
          "output_type": "execute_result",
          "data": {
            "text/plain": [
              "60000"
            ]
          },
          "metadata": {},
          "execution_count": 5
        }
      ],
      "source": [
        "len(train_labels)"
      ]
    },
    {
      "cell_type": "markdown",
      "metadata": {
        "id": "YSlYxFuRCaWk"
      },
      "source": [
        "각 레이블은 0과 9사이의 정수입니다:"
      ]
    },
    {
      "cell_type": "code",
      "execution_count": null,
      "metadata": {
        "id": "XKnCTHz4CaWg",
        "colab": {
          "base_uri": "https://localhost:8080/"
        },
        "outputId": "f562e4bc-78f7-4d87-a413-748205639d3e"
      },
      "outputs": [
        {
          "output_type": "execute_result",
          "data": {
            "text/plain": [
              "array([9, 0, 0, ..., 3, 0, 5], dtype=uint8)"
            ]
          },
          "metadata": {},
          "execution_count": 6
        }
      ],
      "source": [
        "train_labels"
      ]
    },
    {
      "cell_type": "markdown",
      "metadata": {
        "id": "TMPI88iZpO2T"
      },
      "source": [
        "테스트 세트에는 10,000개의 이미지가 있습니다. 이 이미지도 28x28 픽셀로 표현됩니다:"
      ]
    },
    {
      "cell_type": "code",
      "execution_count": null,
      "metadata": {
        "id": "2KFnYlcwCaWl",
        "colab": {
          "base_uri": "https://localhost:8080/"
        },
        "outputId": "98b3a05c-adf5-4134-9c73-4d7fc6475e1f"
      },
      "outputs": [
        {
          "output_type": "execute_result",
          "data": {
            "text/plain": [
              "(10000, 28, 28)"
            ]
          },
          "metadata": {},
          "execution_count": 7
        }
      ],
      "source": [
        "test_images.shape"
      ]
    },
    {
      "cell_type": "markdown",
      "metadata": {
        "id": "rd0A0Iu0CaWq"
      },
      "source": [
        "테스트 세트는 10,000개의 이미지에 대한 레이블을 가지고 있습니다:"
      ]
    },
    {
      "cell_type": "code",
      "execution_count": null,
      "metadata": {
        "id": "iJmPr5-ACaWn",
        "colab": {
          "base_uri": "https://localhost:8080/"
        },
        "outputId": "4142e4a3-66ed-4f68-8311-7aef62ce1361"
      },
      "outputs": [
        {
          "output_type": "execute_result",
          "data": {
            "text/plain": [
              "10000"
            ]
          },
          "metadata": {},
          "execution_count": 8
        }
      ],
      "source": [
        "len(test_labels)"
      ]
    },
    {
      "cell_type": "markdown",
      "metadata": {
        "id": "ES6uQoLKCaWr"
      },
      "source": [
        "## 데이터 전처리\n",
        "\n",
        "네트워크를 훈련하기 전에 데이터를 전처리해야 합니다. 훈련 세트에 있는 첫 번째 이미지를 보면 픽셀 값의 범위가 0~255 사이라는 것을 알 수 있습니다:"
      ]
    },
    {
      "cell_type": "code",
      "execution_count": null,
      "metadata": {
        "id": "m4VEw8Ud9Quh",
        "colab": {
          "base_uri": "https://localhost:8080/",
          "height": 430
        },
        "outputId": "bdf1a3a1-8f84-44ba-a34d-9db2458454c7"
      },
      "outputs": [
        {
          "output_type": "display_data",
          "data": {
            "text/plain": [
              "<Figure size 640x480 with 2 Axes>"
            ],
            "image/png": "[encoded data removed]"
          },
          "metadata": {}
        }
      ],
      "source": [
        "plt.figure()\n",
        "plt.imshow(train_images[0])\n",
        "plt.colorbar()\n",
        "plt.grid(False)\n",
        "plt.show()"
      ]
    },
    {
      "cell_type": "markdown",
      "metadata": {
        "id": "Wz7l27Lz9S1P"
      },
      "source": [
        "신경망 모델에 주입하기 전에 이 값의 범위를 0~1 사이로 조정하겠습니다. 이렇게 하려면 255로 나누어야 합니다. *훈련 세트*와 *테스트 세트*를 동일한 방식으로 전처리하는 것이 중요합니다:"
      ]
    },
    {
      "cell_type": "code",
      "execution_count": null,
      "metadata": {
        "id": "bW5WzIPlCaWv"
      },
      "outputs": [],
      "source": [
        "train_images = train_images / 255.0\n",
        "\n",
        "test_images = test_images / 255.0"
      ]
    },
    {
      "cell_type": "markdown",
      "metadata": {
        "id": "Ee638AlnCaWz"
      },
      "source": [
        "*훈련 세트*에서 처음 25개 이미지와 그 아래 클래스 이름을 출력해 보죠. 데이터 포맷이 올바른지 확인하고 네트워크 구성과 훈련할 준비를 마칩니다."
      ]
    },
    {
      "cell_type": "code",
      "execution_count": null,
      "metadata": {
        "id": "oZTImqg_CaW1",
        "colab": {
          "base_uri": "https://localhost:8080/",
          "height": 826
        },
        "outputId": "191c2c70-680f-4ea9-90f2-d998750fa0fc"
      },
      "outputs": [
        {
          "output_type": "display_data",
          "data": {
            "text/plain": [
              "<Figure size 1000x1000 with 25 Axes>"
            ],
            "image/png": "[encoded data removed]"
          },
          "metadata": {}
        }
      ],
      "source": [
        "plt.figure(figsize=(10,10))\n",
        "for i in range(25):\n",
        "    plt.subplot(5,5,i+1)\n",
        "    plt.xticks([])\n",
        "    plt.yticks([])\n",
        "    plt.grid(False)\n",
        "    plt.imshow(train_images[i], cmap=plt.cm.binary)\n",
        "    plt.xlabel(class_names[train_labels[i]])\n",
        "plt.show()"
      ]
    },
    {
      "cell_type": "markdown",
      "metadata": {
        "id": "59veuiEZCaW4"
      },
      "source": [
        "## 모델 구성\n",
        "\n",
        "신경망 모델을 만들려면 모델의 층을 구성한 다음 모델을 컴파일합니다."
      ]
    },
    {
      "cell_type": "markdown",
      "metadata": {
        "id": "Gxg1XGm0eOBy"
      },
      "source": [
        "### 층 설정\n",
        "\n",
        "신경망의 기본 빌딩 블록은 [*레이어*](https://www.tensorflow.org/api_docs/python/tf/keras/layers) 입니다. 레이어는 레이어에 공급된 데이터로부터 표현을 추출합니다. 이러한 표현은 당면한 문제에 의미가 있어야 합니다.\n",
        "\n",
        "대부분 딥러닝은 간단한 층을 연결하여 구성됩니다. `tf.keras.layers.Dense`와 같은 층들의 가중치(parameter)는 훈련하는 동안 학습됩니다."
      ]
    },
    {
      "cell_type": "code",
      "execution_count": null,
      "metadata": {
        "id": "9ODch-OFCaW4"
      },
      "outputs": [],
      "source": [
        "model = tf.keras.Sequential([\n",
        "    tf.keras.layers.Flatten(input_shape=(28, 28)),\n",
        "    tf.keras.layers.Dense(128, activation='relu'),\n",
        "    tf.keras.layers.Dense(10)\n",
        "])"
      ]
    },
    {
      "cell_type": "markdown",
      "metadata": {
        "id": "gut8A_7rCaW6"
      },
      "source": [
        "이 네트워크의 첫 번째 층인 `tf.keras.layers.Flatten`은 2차원 배열(28 x 28 픽셀)의 이미지 포맷을 28 * 28 = 784 픽셀의 1차원 배열로 변환합니다. 이 층은 이미지에 있는 픽셀의 행을 펼쳐서 일렬로 늘립니다. 이 층에는 학습되는 가중치가 없고 데이터를 변환하기만 합니다.\n",
        "\n",
        "픽셀을 펼친 후에는 두 개의 `tf.keras.layers.Dense` 층이 연속되어 연결됩니다. 이 층을 밀집 연결(densely-connected) 또는 완전 연결(fully-connected) 층이라고 부릅니다. 첫 번째 `Dense` 층은 128개의 노드(또는 뉴런)를 가집니다. 두 번째 (마지막) 층은 10개의 노드의 *소프트맥스*(softmax) 층입니다. 이 층은 10개의 확률을 반환하고 반환된 값의 전체 합은 1입니다. 각 노드는 현재 이미지가 10개 클래스 중 하나에 속할 확률을 출력합니다.\n",
        "\n",
        "### 모델 컴파일\n",
        "\n",
        "모델을 훈련할 준비가 되기 전에 몇 가지 설정이 더 필요합니다. 다음은 모델의 [*컴파일*](https://www.tensorflow.org/api_docs/python/tf/keras/Model#compile) 단계에서 추가됩니다.\n",
        "\n",
        "- [*손실 함수*](https://www.tensorflow.org/api_docs/python/tf/keras/losses) - 훈련 중 모델이 얼마나 정확한지 측정합니다. 모델을 올바른 방향으로 \"조정\"하려면 이 함수를 최소화해야 합니다.\n",
        "- [*옵티마이저*](https://www.tensorflow.org/api_docs/python/tf/keras/optimizers) - 모델이 인식하는 데이터와 해당 손실 함수를 기반으로 모델이 업데이트되는 방식입니다.\n",
        "- [*메트릭*](https://www.tensorflow.org/api_docs/python/tf/keras/metrics) — 훈련 및 테스트 단계를 모니터링하는 데 사용됩니다. 다음 예에서는 올바르게 분류된 이미지의 비율인 *정확도*를 사용합니다."
      ]
    },
    {
      "cell_type": "code",
      "execution_count": null,
      "metadata": {
        "id": "Lhan11blCaW7"
      },
      "outputs": [],
      "source": [
        "model.compile(optimizer='adam',\n",
        "              loss=tf.keras.losses.SparseCategoricalCrossentropy(from_logits=True),\n",
        "              metrics=['accuracy'])"
      ]
    },
    {
      "cell_type": "markdown",
      "metadata": {
        "id": "qKF6uW-BCaW-"
      },
      "source": [
        "## 모델 훈련\n",
        "\n",
        "신경망 모델을 훈련하려면 다음 단계가 필요합니다.\n",
        "\n",
        "1. 훈련 데이터를 모델에 주입합니다-이 예에서는 `train_images`와 `train_labels` 배열입니다.\n",
        "2. 모델이 이미지와 레이블을 매핑하는 방법을 배웁니다.\n",
        "3. 테스트 세트에 대한 모델의 예측을 만듭니다-이 예에서는 `test_images` 배열입니다. 이 예측이 `test_labels` 배열의 레이블과 맞는지 확인합니다.\n",
        "4. 예측이 `test_labels` 배열의 레이블과 일치하는지 확인합니다.\n"
      ]
    },
    {
      "cell_type": "markdown",
      "metadata": {
        "id": "Z4P4zIV7E28Z"
      },
      "source": [
        "### 모델 피드\n",
        "\n",
        "훈련을 시작하려면 [`model.fit`](https://www.tensorflow.org/api_docs/python/tf/keras/Model#fit) 메서드를 호출합니다. 모델을 훈련 데이터에 \"맞추기(fit)\" 때문에 이렇게 불립니다."
      ]
    },
    {
      "cell_type": "code",
      "execution_count": null,
      "metadata": {
        "id": "xvwvpA64CaW_",
        "colab": {
          "base_uri": "https://localhost:8080/"
        },
        "outputId": "0dacc2e0-78ec-4ec6-abcf-a13889fa36fa"
      },
      "outputs": [
        {
          "output_type": "stream",
          "name": "stdout",
          "text": [
            "Epoch 1/10\n",
            "1875/1875 [==============================] - 10s 3ms/step - loss: 0.5014 - accuracy: 0.8223\n",
            "Epoch 2/10\n",
            "1875/1875 [==============================] - 5s 3ms/step - loss: 0.3737 - accuracy: 0.8659\n",
            "Epoch 3/10\n",
            "1875/1875 [==============================] - 5s 3ms/step - loss: 0.3359 - accuracy: 0.8784\n",
            "Epoch 4/10\n",
            "1875/1875 [==============================] - 5s 2ms/step - loss: 0.3127 - accuracy: 0.8855\n",
            "Epoch 5/10\n",
            "1875/1875 [==============================] - 5s 3ms/step - loss: 0.2921 - accuracy: 0.8931\n",
            "Epoch 6/10\n",
            "1875/1875 [==============================] - 5s 3ms/step - loss: 0.2790 - accuracy: 0.8980\n",
            "Epoch 7/10\n",
            "1875/1875 [==============================] - 5s 2ms/step - loss: 0.2658 - accuracy: 0.9015\n",
            "Epoch 8/10\n",
            "1875/1875 [==============================] - 6s 3ms/step - loss: 0.2539 - accuracy: 0.9054\n",
            "Epoch 9/10\n",
            "1875/1875 [==============================] - 5s 2ms/step - loss: 0.2464 - accuracy: 0.9079\n",
            "Epoch 10/10\n",
            "1875/1875 [==============================] - 5s 2ms/step - loss: 0.2366 - accuracy: 0.9107\n"
          ]
        },
        {
          "output_type": "execute_result",
          "data": {
            "text/plain": [
              "<keras.src.callbacks.History at 0x7e2374f35420>"
            ]
          },
          "metadata": {},
          "execution_count": 14
        }
      ],
      "source": [
        "model.fit(train_images, train_labels, epochs=10)"
      ]
    },
    {
      "cell_type": "markdown",
      "metadata": {
        "id": "W3ZVOhugCaXA"
      },
      "source": [
        "모델이 훈련되면서 손실과 정확도 지표가 출력됩니다. 이 모델은 훈련 세트에서 약 0.88(88%) 정도의 정확도를 달성합니다."
      ]
    },
    {
      "cell_type": "markdown",
      "metadata": {
        "id": "wCpr6DGyE28h"
      },
      "source": [
        "### 정확도 평가\n",
        "\n",
        "다음으로, 모델이 테스트 데이터세트에서 작동하는 방식을 비교합니다."
      ]
    },
    {
      "cell_type": "code",
      "execution_count": null,
      "metadata": {
        "id": "VflXLEeECaXC",
        "colab": {
          "base_uri": "https://localhost:8080/"
        },
        "outputId": "a8559c3d-fae4-4510-91c6-ab41adee2f63"
      },
      "outputs": [
        {
          "output_type": "stream",
          "name": "stdout",
          "text": [
            "313/313 - 1s - loss: 0.3228 - accuracy: 0.8886 - 1s/epoch - 3ms/step\n",
            "\n",
            "Test accuracy: 0.8885999917984009\n"
          ]
        }
      ],
      "source": [
        "test_loss, test_acc = model.evaluate(test_images,  test_labels, verbose=2)\n",
        "\n",
        "print('\\nTest accuracy:', test_acc)"
      ]
    },
    {
      "cell_type": "markdown",
      "metadata": {
        "id": "yWfgsmVXCaXG"
      },
      "source": [
        "테스트 세트의 정확도가 훈련 세트의 정확도보다 조금 낮습니다. 훈련 세트의 정확도와 테스트 세트의 정확도 사이의 차이는 *과대적합*(overfitting) 때문입니다. 과대적합은 머신러닝 모델이 훈련 데이터보다 새로운 데이터에서 성능이 낮아지는 현상을 말합니다.\n",
        "\n",
        "- 과대적합 시연\n",
        "- 과대적합을 방지하기 위한 전략"
      ]
    },
    {
      "cell_type": "markdown",
      "metadata": {
        "id": "v-PyD1SYE28q"
      },
      "source": [
        "### 예측하기\n",
        "\n",
        "훈련된 모델을 사용하여 일부 이미지에 대한 예측을 수행할 수 있습니다. 소프트맥스 레이어를 연결하여 [로짓](https://developers.google.com/machine-learning/glossary#logits)을 해석하기 쉬운 확률로 변환합니다."
      ]
    },
    {
      "cell_type": "code",
      "execution_count": null,
      "metadata": {
        "id": "DnfNA0CrQLSD"
      },
      "outputs": [],
      "source": [
        "probability_model = tf.keras.Sequential([model,\n",
        "                                         tf.keras.layers.Softmax()])"
      ]
    },
    {
      "cell_type": "code",
      "execution_count": null,
      "metadata": {
        "id": "Gl91RPhdCaXI",
        "colab": {
          "base_uri": "https://localhost:8080/"
        },
        "outputId": "ee0af85c-d540-4947-ca68-f8ff15dbd275"
      },
      "outputs": [
        {
          "output_type": "stream",
          "name": "stdout",
          "text": [
            "313/313 [==============================] - 0s 1ms/step\n"
          ]
        }
      ],
      "source": [
        "predictions = probability_model.predict(test_images)"
      ]
    },
    {
      "cell_type": "markdown",
      "metadata": {
        "id": "x9Kk1voUCaXJ"
      },
      "source": [
        "여기서는 테스트 세트에 있는 각 이미지의 레이블을 예측했습니다. 첫 번째 예측을 확인해 보죠:"
      ]
    },
    {
      "cell_type": "code",
      "execution_count": null,
      "metadata": {
        "id": "3DmJEUinCaXK",
        "colab": {
          "base_uri": "https://localhost:8080/"
        },
        "outputId": "24d9227f-df74-42c8-8b32-6fe4779e38f8"
      },
      "outputs": [
        {
          "output_type": "execute_result",
          "data": {
            "text/plain": [
              "array([1.6957262e-07, 1.4358962e-07, 1.4567847e-07, 8.8546690e-09,\n",
              "       1.1707318e-06, 2.6504227e-04, 6.7525471e-06, 4.2897887e-03,\n",
              "       7.7356884e-07, 9.9543589e-01], dtype=float32)"
            ]
          },
          "metadata": {},
          "execution_count": 18
        }
      ],
      "source": [
        "predictions[0]"
      ]
    },
    {
      "cell_type": "markdown",
      "metadata": {
        "id": "-hw1hgeSCaXN"
      },
      "source": [
        "이 예측은 10개의 숫자 배열로 나타납니다. 이 값은 10개의 옷 품목에 상응하는 모델의 신뢰도(confidence)를 나타냅니다. 가장 높은 신뢰도를 가진 레이블을 찾아보죠:"
      ]
    },
    {
      "cell_type": "code",
      "execution_count": null,
      "metadata": {
        "id": "qsqenuPnCaXO",
        "colab": {
          "base_uri": "https://localhost:8080/"
        },
        "outputId": "a51cb8cf-4886-46e6-8dab-0f84df28c348"
      },
      "outputs": [
        {
          "output_type": "execute_result",
          "data": {
            "text/plain": [
              "9"
            ]
          },
          "metadata": {},
          "execution_count": 19
        }
      ],
      "source": [
        "np.argmax(predictions[0])"
      ]
    },
    {
      "cell_type": "markdown",
      "metadata": {
        "id": "E51yS7iCCaXO"
      },
      "source": [
        "모델은 이 이미지가 앵클 부츠(`class_name[9]`)라고 가장 확신하고 있습니다. 이 값이 맞는지 테스트 레이블을 확인해 보죠:"
      ]
    },
    {
      "cell_type": "code",
      "execution_count": null,
      "metadata": {
        "id": "Sd7Pgsu6CaXP",
        "colab": {
          "base_uri": "https://localhost:8080/"
        },
        "outputId": "91b64937-4043-4905-d32e-52a3ab9f541e"
      },
      "outputs": [
        {
          "output_type": "execute_result",
          "data": {
            "text/plain": [
              "9"
            ]
          },
          "metadata": {},
          "execution_count": 20
        }
      ],
      "source": [
        "test_labels[0]"
      ]
    },
    {
      "cell_type": "markdown",
      "metadata": {
        "id": "ygh2yYC972ne"
      },
      "source": [
        "10개 클래스에 대한 예측을 모두 그래프로 표현해 보겠습니다:"
      ]
    },
    {
      "cell_type": "code",
      "execution_count": null,
      "metadata": {
        "id": "DvYmmrpIy6Y1"
      },
      "outputs": [],
      "source": [
        "def plot_image(i, predictions_array, true_label, img):\n",
        "  true_label, img = true_label[i], img[i]\n",
        "  plt.grid(False)\n",
        "  plt.xticks([])\n",
        "  plt.yticks([])\n",
        "\n",
        "  plt.imshow(img, cmap=plt.cm.binary)\n",
        "\n",
        "  predicted_label = np.argmax(predictions_array)\n",
        "  if predicted_label == true_label:\n",
        "    color = 'blue'\n",
        "  else:\n",
        "    color = 'red'\n",
        "\n",
        "  plt.xlabel(\"{} {:2.0f}% ({})\".format(class_names[predicted_label],\n",
        "                                100*np.max(predictions_array),\n",
        "                                class_names[true_label]),\n",
        "                                color=color)\n",
        "\n",
        "def plot_value_array(i, predictions_array, true_label):\n",
        "  true_label = true_label[i]\n",
        "  plt.grid(False)\n",
        "  plt.xticks(range(10))\n",
        "  plt.yticks([])\n",
        "  thisplot = plt.bar(range(10), predictions_array, color=\"#777777\")\n",
        "  plt.ylim([0, 1])\n",
        "  predicted_label = np.argmax(predictions_array)\n",
        "\n",
        "  thisplot[predicted_label].set_color('red')\n",
        "  thisplot[true_label].set_color('blue')"
      ]
    },
    {
      "cell_type": "markdown",
      "metadata": {
        "id": "Zh9yABaME29S"
      },
      "source": [
        "### 예측 확인\n",
        "\n",
        "훈련된 모델을 사용하여 일부 이미지에 대한 예측을 수행할 수 있습니다."
      ]
    },
    {
      "cell_type": "markdown",
      "metadata": {
        "id": "d4Ov9OFDMmOD"
      },
      "source": [
        "0번째 원소의 이미지, 예측, 신뢰도 점수 배열을 확인해 보겠습니다."
      ]
    },
    {
      "cell_type": "code",
      "execution_count": null,
      "metadata": {
        "id": "HV5jw-5HwSmO",
        "colab": {
          "base_uri": "https://localhost:8080/",
          "height": 291
        },
        "outputId": "fa384c3e-05c9-4e24-a431-d31c647c9ed1"
      },
      "outputs": [
        {
          "output_type": "display_data",
          "data": {
            "text/plain": [
              "<Figure size 600x300 with 2 Axes>"
            ],
            "image/png": "[encoded data removed]"
          },
          "metadata": {}
        }
      ],
      "source": [
        "i = 0\n",
        "plt.figure(figsize=(6,3))\n",
        "plt.subplot(1,2,1)\n",
        "plot_image(i, predictions[i], test_labels, test_images)\n",
        "plt.subplot(1,2,2)\n",
        "plot_value_array(i, predictions[i],  test_labels)\n",
        "plt.show()"
      ]
    },
    {
      "cell_type": "code",
      "execution_count": null,
      "metadata": {
        "id": "Ko-uzOufSCSe",
        "colab": {
          "base_uri": "https://localhost:8080/",
          "height": 291
        },
        "outputId": "d897fe09-080e-4a22-a919-1f924e0a8bb8"
      },
      "outputs": [
        {
          "output_type": "display_data",
          "data": {
            "text/plain": [
              "<Figure size 600x300 with 2 Axes>"
            ],
            "image/png": "[encoded data removed]"
          },
          "metadata": {}
        }
      ],
      "source": [
        "i = 17\n",
        "plt.figure(figsize=(6,3))\n",
        "plt.subplot(1,2,1)\n",
        "plot_image(i, predictions[i], test_labels, test_images)\n",
        "plt.subplot(1,2,2)\n",
        "plot_value_array(i, predictions[i],  test_labels)\n",
        "plt.show()"
      ]
    },
    {
      "cell_type": "markdown",
      "metadata": {
        "id": "kgdvGD52CaXR"
      },
      "source": [
        "몇 개의 이미지의 예측을 출력해 보죠. 올바르게 예측된 레이블은 파란색이고 잘못 예측된 레이블은 빨강색입니다. 숫자는 예측 레이블의 신뢰도 퍼센트(100점 만점)입니다. 신뢰도 점수가 높을 때도 잘못 예측할 수 있습니다."
      ]
    },
    {
      "cell_type": "code",
      "execution_count": null,
      "metadata": {
        "id": "hQlnbqaw2Qu_",
        "colab": {
          "base_uri": "https://localhost:8080/",
          "height": 1000
        },
        "outputId": "27bb4044-78cd-4d3a-ae81-f9627d936398"
      },
      "outputs": [
        {
          "output_type": "display_data",
          "data": {
            "text/plain": [
              "<Figure size 1200x1000 with 30 Axes>"
            ],
            "image/png": "[encoded data removed]"
          },
          "metadata": {}
        }
      ],
      "source": [
        "# Plot the first X test images, their predicted labels, and the true labels.\n",
        "# Color correct predictions in blue and incorrect predictions in red.\n",
        "num_rows = 5\n",
        "num_cols = 3\n",
        "num_images = num_rows*num_cols\n",
        "plt.figure(figsize=(2*2*num_cols, 2*num_rows))\n",
        "for i in range(num_images):\n",
        "  plt.subplot(num_rows, 2*num_cols, 2*i+1)\n",
        "  plot_image(i, predictions[i], test_labels, test_images)\n",
        "  plt.subplot(num_rows, 2*num_cols, 2*i+2)\n",
        "  plot_value_array(i, predictions[i], test_labels)\n",
        "plt.tight_layout()\n",
        "plt.show()"
      ]
    },
    {
      "cell_type": "markdown",
      "metadata": {
        "id": "R32zteKHCaXT"
      },
      "source": [
        "## 훈련된 모델 사용하기\n",
        "\n",
        "마지막으로 훈련된 모델을 사용하여 한 이미지에 대한 예측을 만듭니다."
      ]
    },
    {
      "cell_type": "code",
      "execution_count": null,
      "metadata": {
        "id": "yRJ7JU7JCaXT",
        "colab": {
          "base_uri": "https://localhost:8080/"
        },
        "outputId": "51b2a857-6f8f-4cfb-886c-64586f96714e"
      },
      "outputs": [
        {
          "output_type": "stream",
          "name": "stdout",
          "text": [
            "(28, 28)\n"
          ]
        }
      ],
      "source": [
        "# Grab an image from the test dataset.\n",
        "img = test_images[1]\n",
        "\n",
        "print(img.shape)"
      ]
    },
    {
      "cell_type": "markdown",
      "metadata": {
        "id": "vz3bVp21CaXV"
      },
      "source": [
        "`tf.keras` 모델은 한 번에 샘플의 묶음 또는 *배치*(batch)로 예측을 만드는데 최적화되어 있습니다. 하나의 이미지를 사용할 때에도 2차원 배열로 만들어야 합니다:"
      ]
    },
    {
      "cell_type": "code",
      "execution_count": null,
      "metadata": {
        "id": "lDFh5yF_CaXW",
        "colab": {
          "base_uri": "https://localhost:8080/"
        },
        "outputId": "efb2c772-d1ca-49d4-aae5-413c64d42919"
      },
      "outputs": [
        {
          "output_type": "stream",
          "name": "stdout",
          "text": [
            "(1, 28, 28)\n"
          ]
        }
      ],
      "source": [
        "# Add the image to a batch where it's the only member.\n",
        "img = (np.expand_dims(img,0))\n",
        "\n",
        "print(img.shape)"
      ]
    },
    {
      "cell_type": "markdown",
      "metadata": {
        "id": "EQ5wLTkcCaXY"
      },
      "source": [
        "이제 이 이미지의 예측을 만듭니다:"
      ]
    },
    {
      "cell_type": "code",
      "execution_count": null,
      "metadata": {
        "id": "o_rzNSdrCaXY",
        "colab": {
          "base_uri": "https://localhost:8080/"
        },
        "outputId": "93782345-8063-423e-dda1-5fc29aa3c874"
      },
      "outputs": [
        {
          "output_type": "stream",
          "name": "stdout",
          "text": [
            "1/1 [==============================] - 0s 23ms/step\n",
            "[[3.5900826e-05 1.8415618e-12 9.9713123e-01 8.6731111e-09 1.4413766e-03\n",
            "  3.2980736e-14 1.3914629e-03 2.2015386e-17 1.2960386e-09 3.3427887e-12]]\n"
          ]
        }
      ],
      "source": [
        "predictions_single = probability_model.predict(img)\n",
        "\n",
        "print(predictions_single)"
      ]
    },
    {
      "cell_type": "code",
      "execution_count": null,
      "metadata": {
        "id": "6Ai-cpLjO-3A",
        "colab": {
          "base_uri": "https://localhost:8080/",
          "height": 478
        },
        "outputId": "19e9cda7-d262-42fe-b461-3abda6c14d03"
      },
      "outputs": [
        {
          "output_type": "display_data",
          "data": {
            "text/plain": [
              "<Figure size 640x480 with 1 Axes>"
            ],
            "image/png": "[encoded data removed]"
          },
          "metadata": {}
        }
      ],
      "source": [
        "plot_value_array(1, predictions_single[0], test_labels)\n",
        "_ = plt.xticks(range(10), class_names, rotation=45)\n",
        "plt.show()"
      ]
    },
    {
      "cell_type": "markdown",
      "metadata": {
        "id": "cU1Y2OAMCaXb"
      },
      "source": [
        "`tf.keras.Model.predict`는 데이터 배치의 각 이미지에 대해 하나의 목록씩 목록의 목록을 반환합니다. 배치에서 (유일한) 이미지에 대한 예측을 가져옵니다."
      ]
    },
    {
      "cell_type": "code",
      "execution_count": null,
      "metadata": {
        "id": "2tRmdq_8CaXb",
        "colab": {
          "base_uri": "https://localhost:8080/"
        },
        "outputId": "78ef2106-28f6-4aea-d008-a4745dca23d3"
      },
      "outputs": [
        {
          "output_type": "execute_result",
          "data": {
            "text/plain": [
              "2"
            ]
          },
          "metadata": {},
          "execution_count": 29
        }
      ],
      "source": [
        "np.argmax(predictions_single[0])"
      ]
    },
    {
      "cell_type": "markdown",
      "metadata": {
        "id": "YFc2HbEVCaXd"
      },
      "source": [
        "예상과 같이 모델이 레이블을 예측합니다."
      ]
    },
    {
      "cell_type": "code",
      "source": [
        "import os"
      ],
      "metadata": {
        "id": "Q_dHSJM82JSh"
      },
      "execution_count": null,
      "outputs": []
    },
    {
      "cell_type": "code",
      "source": [
        "from google.colab import drive\n",
        "drive.mount('/content/drive')"
      ],
      "metadata": {
        "id": "Mocf1fdb2JPK",
        "colab": {
          "base_uri": "https://localhost:8080/"
        },
        "outputId": "b15e8900-67fe-4d04-de83-7a5076619918"
      },
      "execution_count": null,
      "outputs": [
        {
          "output_type": "stream",
          "name": "stdout",
          "text": [
            "Mounted at /content/drive\n"
          ]
        }
      ]
    },
    {
      "cell_type": "code",
      "source": [
        "checkpoint_path = r'/content/drive/MyDrive/trained_model'\n",
        "checkpoint_dir = os.path.dirname(checkpoint_path)\n",
        "\n",
        "# Create a callback that saves the model's weights\n",
        "cp_callback = tf.keras.callbacks.ModelCheckpoint(filepath=checkpoint_path,\n",
        "                                                 save_weights_only=True,\n",
        "                                                 verbose=1)\n",
        "\n",
        "\"layer == 1\"\n",
        "model_1 = tf.keras.Sequential([\n",
        "    tf.keras.layers.Conv2D(filters = 6, kernel_size = 3, activation='relu', padding=\"same\", input_shape=(28, 28, 1)),\n",
        "    tf.keras.layers.Flatten(input_shape=(28, 28)),\n",
        "    tf.keras.layers.Dense(128, activation='relu'),\n",
        "    tf.keras.layers.Dense(10)])\n",
        "#  # filter PPT 참고, kernel 3X3, 1D로 바뀌었으므로 shape 다시 지정\n",
        "model_1.summary()\n",
        "\n",
        "model_1.compile(optimizer='adam',\n",
        "              loss=tf.keras.losses.SparseCategoricalCrossentropy(from_logits=True),\n",
        "              metrics=['accuracy'])\n",
        "\n",
        "model_1.fit(train_images, train_labels, epochs=10, callbacks=[cp_callback])\n",
        "\n",
        "# save your model\n",
        "model_1.save('./ checkpoints /3-(e)_1_layer_conv . hdf5')"
      ],
      "metadata": {
        "id": "dhu_Xre-2JNQ",
        "colab": {
          "base_uri": "https://localhost:8080/"
        },
        "outputId": "013c90c7-2c10-4167-b642-f45676ed77df"
      },
      "execution_count": null,
      "outputs": [
        {
          "output_type": "stream",
          "name": "stdout",
          "text": [
            "Model: \"sequential_7\"\n",
            "_________________________________________________________________\n",
            " Layer (type)                Output Shape              Param #   \n",
            "=================================================================\n",
            " conv2d_8 (Conv2D)           (None, 28, 28, 6)         60        \n",
            "                                                                 \n",
            " flatten_6 (Flatten)         (None, 4704)              0         \n",
            "                                                                 \n",
            " dense_12 (Dense)            (None, 128)               602240    \n",
            "                                                                 \n",
            " dense_13 (Dense)            (None, 10)                1290      \n",
            "                                                                 \n",
            "=================================================================\n",
            "Total params: 603590 (2.30 MB)\n",
            "Trainable params: 603590 (2.30 MB)\n",
            "Non-trainable params: 0 (0.00 Byte)\n",
            "_________________________________________________________________\n",
            "Epoch 1/10\n",
            "1870/1875 [============================>.] - ETA: 0s - loss: 0.4026 - accuracy: 0.8556\n",
            "Epoch 1: saving model to /content/drive/MyDrive/trained_model\n",
            "1875/1875 [==============================] - 14s 6ms/step - loss: 0.4025 - accuracy: 0.8557\n",
            "Epoch 2/10\n",
            "1873/1875 [============================>.] - ETA: 0s - loss: 0.2763 - accuracy: 0.8986\n",
            "Epoch 2: saving model to /content/drive/MyDrive/trained_model\n",
            "1875/1875 [==============================] - 11s 6ms/step - loss: 0.2764 - accuracy: 0.8986\n",
            "Epoch 3/10\n",
            "1870/1875 [============================>.] - ETA: 0s - loss: 0.2315 - accuracy: 0.9143\n",
            "Epoch 3: saving model to /content/drive/MyDrive/trained_model\n",
            "1875/1875 [==============================] - 6s 3ms/step - loss: 0.2316 - accuracy: 0.9142\n",
            "Epoch 4/10\n",
            "1871/1875 [============================>.] - ETA: 0s - loss: 0.1969 - accuracy: 0.9268\n",
            "Epoch 4: saving model to /content/drive/MyDrive/trained_model\n",
            "1875/1875 [==============================] - 6s 3ms/step - loss: 0.1969 - accuracy: 0.9268\n",
            "Epoch 5/10\n",
            "1868/1875 [============================>.] - ETA: 0s - loss: 0.1677 - accuracy: 0.9380\n",
            "Epoch 5: saving model to /content/drive/MyDrive/trained_model\n",
            "1875/1875 [==============================] - 7s 4ms/step - loss: 0.1677 - accuracy: 0.9380\n",
            "Epoch 6/10\n",
            "1871/1875 [============================>.] - ETA: 0s - loss: 0.1428 - accuracy: 0.9477\n",
            "Epoch 6: saving model to /content/drive/MyDrive/trained_model\n",
            "1875/1875 [==============================] - 6s 3ms/step - loss: 0.1427 - accuracy: 0.9478\n",
            "Epoch 7/10\n",
            "1867/1875 [============================>.] - ETA: 0s - loss: 0.1204 - accuracy: 0.9554\n",
            "Epoch 7: saving model to /content/drive/MyDrive/trained_model\n",
            "1875/1875 [==============================] - 7s 4ms/step - loss: 0.1207 - accuracy: 0.9553\n",
            "Epoch 8/10\n",
            "1868/1875 [============================>.] - ETA: 0s - loss: 0.1012 - accuracy: 0.9630\n",
            "Epoch 8: saving model to /content/drive/MyDrive/trained_model\n",
            "1875/1875 [==============================] - 6s 3ms/step - loss: 0.1011 - accuracy: 0.9630\n",
            "Epoch 9/10\n",
            "1867/1875 [============================>.] - ETA: 0s - loss: 0.0851 - accuracy: 0.9687\n",
            "Epoch 9: saving model to /content/drive/MyDrive/trained_model\n",
            "1875/1875 [==============================] - 6s 3ms/step - loss: 0.0852 - accuracy: 0.9687\n",
            "Epoch 10/10\n",
            "1858/1875 [============================>.] - ETA: 0s - loss: 0.0713 - accuracy: 0.9742\n",
            "Epoch 10: saving model to /content/drive/MyDrive/trained_model\n",
            "1875/1875 [==============================] - 7s 4ms/step - loss: 0.0713 - accuracy: 0.9743\n"
          ]
        }
      ]
    },
    {
      "cell_type": "code",
      "source": [
        "\"layer == 2\"\n",
        "model_2 = tf.keras.Sequential([\n",
        "    tf.keras.layers.Conv2D(filters = 6, kernel_size = 3, activation='relu', padding=\"same\", input_shape=(28, 28, 1)),\n",
        "    tf.keras.layers.Conv2D(filters = 6, kernel_size = 3, activation='relu', padding=\"same\", input_shape=(28, 28, 1)),\n",
        "    tf.keras.layers.Flatten(input_shape=(28, 28)),\n",
        "    tf.keras.layers.Dense(128, activation='relu'),\n",
        "    tf.keras.layers.Dense(10)])\n",
        "#  # filter PPT 참고, kernel 3X3, 1D로 바뀌었으므로 shape 다시 지정\n",
        "model_2.summary()\n",
        "\n",
        "model_2.compile(optimizer='adam',\n",
        "              loss=tf.keras.losses.SparseCategoricalCrossentropy(from_logits=True),\n",
        "              metrics=['accuracy'])\n",
        "\n",
        "model_2.fit(train_images, train_labels, epochs=10, callbacks=[cp_callback])\n",
        "\n",
        "# save your model\n",
        "model_2.save('./ checkpoints / 3-(e)_2_layer_conv . hdf5')"
      ],
      "metadata": {
        "id": "houq_B9h2JKv",
        "colab": {
          "base_uri": "https://localhost:8080/"
        },
        "outputId": "77af34d5-8fa0-41f3-ba58-8929d9083f57"
      },
      "execution_count": null,
      "outputs": [
        {
          "output_type": "stream",
          "name": "stdout",
          "text": [
            "Model: \"sequential_8\"\n",
            "_________________________________________________________________\n",
            " Layer (type)                Output Shape              Param #   \n",
            "=================================================================\n",
            " conv2d_9 (Conv2D)           (None, 28, 28, 6)         60        \n",
            "                                                                 \n",
            " conv2d_10 (Conv2D)          (None, 28, 28, 6)         330       \n",
            "                                                                 \n",
            " flatten_7 (Flatten)         (None, 4704)              0         \n",
            "                                                                 \n",
            " dense_14 (Dense)            (None, 128)               602240    \n",
            "                                                                 \n",
            " dense_15 (Dense)            (None, 10)                1290      \n",
            "                                                                 \n",
            "=================================================================\n",
            "Total params: 603920 (2.30 MB)\n",
            "Trainable params: 603920 (2.30 MB)\n",
            "Non-trainable params: 0 (0.00 Byte)\n",
            "_________________________________________________________________\n",
            "Epoch 1/10\n",
            "1872/1875 [============================>.] - ETA: 0s - loss: 0.4175 - accuracy: 0.8502\n",
            "Epoch 1: saving model to /content/drive/MyDrive/trained_model\n",
            "1875/1875 [==============================] - 8s 3ms/step - loss: 0.4175 - accuracy: 0.8501\n",
            "Epoch 2/10\n",
            "1864/1875 [============================>.] - ETA: 0s - loss: 0.2744 - accuracy: 0.8989\n",
            "Epoch 2: saving model to /content/drive/MyDrive/trained_model\n",
            "1875/1875 [==============================] - 8s 4ms/step - loss: 0.2745 - accuracy: 0.8988\n",
            "Epoch 3/10\n",
            "1871/1875 [============================>.] - ETA: 0s - loss: 0.2225 - accuracy: 0.9171\n",
            "Epoch 3: saving model to /content/drive/MyDrive/trained_model\n",
            "1875/1875 [==============================] - 6s 3ms/step - loss: 0.2227 - accuracy: 0.9170\n",
            "Epoch 4/10\n",
            "1874/1875 [============================>.] - ETA: 0s - loss: 0.1804 - accuracy: 0.9339\n",
            "Epoch 4: saving model to /content/drive/MyDrive/trained_model\n",
            "1875/1875 [==============================] - 8s 4ms/step - loss: 0.1804 - accuracy: 0.9340\n",
            "Epoch 5/10\n",
            "1862/1875 [============================>.] - ETA: 0s - loss: 0.1468 - accuracy: 0.9449\n",
            "Epoch 5: saving model to /content/drive/MyDrive/trained_model\n",
            "1875/1875 [==============================] - 6s 3ms/step - loss: 0.1467 - accuracy: 0.9450\n",
            "Epoch 6/10\n",
            "1869/1875 [============================>.] - ETA: 0s - loss: 0.1159 - accuracy: 0.9572\n",
            "Epoch 6: saving model to /content/drive/MyDrive/trained_model\n",
            "1875/1875 [==============================] - 8s 4ms/step - loss: 0.1158 - accuracy: 0.9572\n",
            "Epoch 7/10\n",
            "1864/1875 [============================>.] - ETA: 0s - loss: 0.0877 - accuracy: 0.9681\n",
            "Epoch 7: saving model to /content/drive/MyDrive/trained_model\n",
            "1875/1875 [==============================] - 7s 4ms/step - loss: 0.0879 - accuracy: 0.9681\n",
            "Epoch 8/10\n",
            "1873/1875 [============================>.] - ETA: 0s - loss: 0.0676 - accuracy: 0.9753\n",
            "Epoch 8: saving model to /content/drive/MyDrive/trained_model\n",
            "1875/1875 [==============================] - 7s 4ms/step - loss: 0.0677 - accuracy: 0.9752\n",
            "Epoch 9/10\n",
            "1870/1875 [============================>.] - ETA: 0s - loss: 0.0522 - accuracy: 0.9815\n",
            "Epoch 9: saving model to /content/drive/MyDrive/trained_model\n",
            "1875/1875 [==============================] - 8s 4ms/step - loss: 0.0523 - accuracy: 0.9815\n",
            "Epoch 10/10\n",
            "1875/1875 [==============================] - ETA: 0s - loss: 0.0392 - accuracy: 0.9861\n",
            "Epoch 10: saving model to /content/drive/MyDrive/trained_model\n",
            "1875/1875 [==============================] - 7s 4ms/step - loss: 0.0392 - accuracy: 0.9861\n"
          ]
        }
      ]
    },
    {
      "cell_type": "code",
      "source": [
        "\"layer == 3\"\n",
        "model_3 = tf.keras.Sequential([\n",
        "    tf.keras.layers.Conv2D(filters = 6, kernel_size = 3, activation='relu', padding=\"same\", input_shape=(28, 28, 1)),\n",
        "    tf.keras.layers.Conv2D(filters = 6, kernel_size = 3, activation='relu', padding=\"same\", input_shape=(28, 28, 1)),\n",
        "    tf.keras.layers.Conv2D(filters = 6, kernel_size = 3, activation='relu', padding=\"same\", input_shape=(28, 28, 1)),\n",
        "    tf.keras.layers.Flatten(input_shape=(28, 28)),\n",
        "    tf.keras.layers.Dense(128, activation='relu'),\n",
        "    tf.keras.layers.Dense(10)])\n",
        "#  # filter PPT 참고, kernel 3X3, 1D로 바뀌었으므로 shape 다시 지정\n",
        "model_3.summary()\n",
        "\n",
        "model_3.compile(optimizer='adam',\n",
        "              loss=tf.keras.losses.SparseCategoricalCrossentropy(from_logits=True),\n",
        "              metrics=['accuracy'])\n",
        "\n",
        "model_3.fit(train_images, train_labels, epochs=10, callbacks=[cp_callback])\n",
        "\n",
        "# save your model\n",
        "model_3.save('./ checkpoints / 3-(e)_3_layer_conv . hdf5')"
      ],
      "metadata": {
        "id": "aVe_Mknz2JIm",
        "colab": {
          "base_uri": "https://localhost:8080/"
        },
        "outputId": "d2cd00c5-b33b-4e4e-e63e-16a0544aaef1"
      },
      "execution_count": null,
      "outputs": [
        {
          "output_type": "stream",
          "name": "stdout",
          "text": [
            "Model: \"sequential_9\"\n",
            "_________________________________________________________________\n",
            " Layer (type)                Output Shape              Param #   \n",
            "=================================================================\n",
            " conv2d_11 (Conv2D)          (None, 28, 28, 6)         60        \n",
            "                                                                 \n",
            " conv2d_12 (Conv2D)          (None, 28, 28, 6)         330       \n",
            "                                                                 \n",
            " conv2d_13 (Conv2D)          (None, 28, 28, 6)         330       \n",
            "                                                                 \n",
            " flatten_8 (Flatten)         (None, 4704)              0         \n",
            "                                                                 \n",
            " dense_16 (Dense)            (None, 128)               602240    \n",
            "                                                                 \n",
            " dense_17 (Dense)            (None, 10)                1290      \n",
            "                                                                 \n",
            "=================================================================\n",
            "Total params: 604250 (2.31 MB)\n",
            "Trainable params: 604250 (2.31 MB)\n",
            "Non-trainable params: 0 (0.00 Byte)\n",
            "_________________________________________________________________\n",
            "Epoch 1/10\n",
            "1869/1875 [============================>.] - ETA: 0s - loss: 0.4033 - accuracy: 0.8532\n",
            "Epoch 1: saving model to /content/drive/MyDrive/trained_model\n",
            "1875/1875 [==============================] - 10s 5ms/step - loss: 0.4029 - accuracy: 0.8534\n",
            "Epoch 2/10\n",
            "1867/1875 [============================>.] - ETA: 0s - loss: 0.2599 - accuracy: 0.9046\n",
            "Epoch 2: saving model to /content/drive/MyDrive/trained_model\n",
            "1875/1875 [==============================] - 9s 5ms/step - loss: 0.2596 - accuracy: 0.9047\n",
            "Epoch 3/10\n",
            "1872/1875 [============================>.] - ETA: 0s - loss: 0.2007 - accuracy: 0.9254\n",
            "Epoch 3: saving model to /content/drive/MyDrive/trained_model\n",
            "1875/1875 [==============================] - 8s 4ms/step - loss: 0.2007 - accuracy: 0.9255\n",
            "Epoch 4/10\n",
            "1867/1875 [============================>.] - ETA: 0s - loss: 0.1521 - accuracy: 0.9443\n",
            "Epoch 4: saving model to /content/drive/MyDrive/trained_model\n",
            "1875/1875 [==============================] - 7s 4ms/step - loss: 0.1522 - accuracy: 0.9443\n",
            "Epoch 5/10\n",
            "1869/1875 [============================>.] - ETA: 0s - loss: 0.1122 - accuracy: 0.9587\n",
            "Epoch 5: saving model to /content/drive/MyDrive/trained_model\n",
            "1875/1875 [==============================] - 8s 4ms/step - loss: 0.1122 - accuracy: 0.9587\n",
            "Epoch 6/10\n",
            "1866/1875 [============================>.] - ETA: 0s - loss: 0.0789 - accuracy: 0.9708\n",
            "Epoch 6: saving model to /content/drive/MyDrive/trained_model\n",
            "1875/1875 [==============================] - 7s 4ms/step - loss: 0.0789 - accuracy: 0.9708\n",
            "Epoch 7/10\n",
            "1861/1875 [============================>.] - ETA: 0s - loss: 0.0569 - accuracy: 0.9792\n",
            "Epoch 7: saving model to /content/drive/MyDrive/trained_model\n",
            "1875/1875 [==============================] - 8s 4ms/step - loss: 0.0569 - accuracy: 0.9792\n",
            "Epoch 8/10\n",
            "1875/1875 [==============================] - ETA: 0s - loss: 0.0430 - accuracy: 0.9849\n",
            "Epoch 8: saving model to /content/drive/MyDrive/trained_model\n",
            "1875/1875 [==============================] - 7s 4ms/step - loss: 0.0430 - accuracy: 0.9849\n",
            "Epoch 9/10\n",
            "1875/1875 [==============================] - ETA: 0s - loss: 0.0320 - accuracy: 0.9888\n",
            "Epoch 9: saving model to /content/drive/MyDrive/trained_model\n",
            "1875/1875 [==============================] - 8s 4ms/step - loss: 0.0320 - accuracy: 0.9888\n",
            "Epoch 10/10\n",
            "1869/1875 [============================>.] - ETA: 0s - loss: 0.0274 - accuracy: 0.9903\n",
            "Epoch 10: saving model to /content/drive/MyDrive/trained_model\n",
            "1875/1875 [==============================] - 8s 4ms/step - loss: 0.0275 - accuracy: 0.9903\n"
          ]
        }
      ]
    },
    {
      "cell_type": "code",
      "source": [
        "\"layer == 4\"\n",
        "model_4 = tf.keras.Sequential([\n",
        "    tf.keras.layers.Conv2D(filters = 6, kernel_size = 3, activation='relu', padding=\"same\", input_shape=(28, 28, 1)),\n",
        "    tf.keras.layers.Conv2D(filters = 6, kernel_size = 3, activation='relu', padding=\"same\", input_shape=(28, 28, 1)),\n",
        "    tf.keras.layers.Conv2D(filters = 6, kernel_size = 3, activation='relu', padding=\"same\", input_shape=(28, 28, 1)),\n",
        "    tf.keras.layers.Conv2D(filters = 6, kernel_size = 3, activation='relu', padding=\"same\", input_shape=(28, 28, 1)),\n",
        "    tf.keras.layers.Conv2D(filters = 6, kernel_size = 3, activation='relu', padding=\"same\", input_shape=(28, 28, 1)),\n",
        "    tf.keras.layers.Conv2D(filters = 6, kernel_size = 3, activation='relu', padding=\"same\", input_shape=(28, 28, 1)),\n",
        "    tf.keras.layers.Flatten(input_shape=(28, 28)),\n",
        "    tf.keras.layers.Dense(128, activation='relu'),\n",
        "    tf.keras.layers.Dense(10)])\n",
        "#  # filter PPT 참고, kernel 3X3, 1D로 바뀌었으므로 shape 다시 지정\n",
        "model_4.summary()\n",
        "\n",
        "model_4.compile(optimizer='adam',\n",
        "              loss=tf.keras.losses.SparseCategoricalCrossentropy(from_logits=True),\n",
        "              metrics=['accuracy'])\n",
        "\n",
        "model_4.fit(train_images, train_labels, epochs=10)"
      ],
      "metadata": {
        "id": "sZXG5Q8d2JGA"
      },
      "execution_count": null,
      "outputs": []
    },
    {
      "cell_type": "code",
      "source": [
        "\"layer == 3 : adadelta\"\n",
        "model_5 = tf.keras.Sequential([\n",
        "    tf.keras.layers.Conv2D(filters = 6, kernel_size = 3, activation='relu', padding=\"same\", input_shape=(28, 28, 1)),\n",
        "    tf.keras.layers.Conv2D(filters = 6, kernel_size = 3, activation='relu', padding=\"same\", input_shape=(28, 28, 1)),\n",
        "    tf.keras.layers.Conv2D(filters = 6, kernel_size = 3, activation='relu', padding=\"same\", input_shape=(28, 28, 1)),\n",
        "    tf.keras.layers.Flatten(input_shape=(28, 28)),\n",
        "    tf.keras.layers.Dense(128, activation='relu'),\n",
        "    tf.keras.layers.Dense(10)])\n",
        "#  # filter PPT 참고, kernel 3X3, 1D로 바뀌었으므로 shape 다시 지정\n",
        "model_5.summary()\n",
        "\n",
        "model_5.compile(optimizer= \"adadelta\",\n",
        "              loss=tf.keras.losses.SparseCategoricalCrossentropy(from_logits=True),\n",
        "              metrics=['accuracy'])\n",
        "\n",
        "model_5.fit(train_images, train_labels, epochs=10, callbacks=[cp_callback])\n",
        "\n",
        "# save your model\n",
        "model_5.save('./ checkpoints / 3-(f)_3_layer_conv_adadelta . hdf5')"
      ],
      "metadata": {
        "id": "cUX30TcS2JDo",
        "colab": {
          "base_uri": "https://localhost:8080/"
        },
        "outputId": "f37ba6ee-f4b9-4bc0-fef3-3183ec098a66"
      },
      "execution_count": null,
      "outputs": [
        {
          "output_type": "stream",
          "name": "stdout",
          "text": [
            "Model: \"sequential_10\"\n",
            "_________________________________________________________________\n",
            " Layer (type)                Output Shape              Param #   \n",
            "=================================================================\n",
            " conv2d_14 (Conv2D)          (None, 28, 28, 6)         60        \n",
            "                                                                 \n",
            " conv2d_15 (Conv2D)          (None, 28, 28, 6)         330       \n",
            "                                                                 \n",
            " conv2d_16 (Conv2D)          (None, 28, 28, 6)         330       \n",
            "                                                                 \n",
            " flatten_9 (Flatten)         (None, 4704)              0         \n",
            "                                                                 \n",
            " dense_18 (Dense)            (None, 128)               602240    \n",
            "                                                                 \n",
            " dense_19 (Dense)            (None, 10)                1290      \n",
            "                                                                 \n",
            "=================================================================\n",
            "Total params: 604250 (2.31 MB)\n",
            "Trainable params: 604250 (2.31 MB)\n",
            "Non-trainable params: 0 (0.00 Byte)\n",
            "_________________________________________________________________\n",
            "Epoch 1/10\n",
            "1866/1875 [============================>.] - ETA: 0s - loss: 2.1530 - accuracy: 0.3565\n",
            "Epoch 1: saving model to /content/drive/MyDrive/trained_model\n",
            "1875/1875 [==============================] - 9s 4ms/step - loss: 2.1520 - accuracy: 0.3576\n",
            "Epoch 2/10\n",
            "1873/1875 [============================>.] - ETA: 0s - loss: 1.5531 - accuracy: 0.6160\n",
            "Epoch 2: saving model to /content/drive/MyDrive/trained_model\n",
            "1875/1875 [==============================] - 8s 4ms/step - loss: 1.5528 - accuracy: 0.6160\n",
            "Epoch 3/10\n",
            "1861/1875 [============================>.] - ETA: 0s - loss: 1.0204 - accuracy: 0.6607\n",
            "Epoch 3: saving model to /content/drive/MyDrive/trained_model\n",
            "1875/1875 [==============================] - 7s 4ms/step - loss: 1.0190 - accuracy: 0.6612\n",
            "Epoch 4/10\n",
            "1865/1875 [============================>.] - ETA: 0s - loss: 0.8494 - accuracy: 0.7059\n",
            "Epoch 4: saving model to /content/drive/MyDrive/trained_model\n",
            "1875/1875 [==============================] - 8s 4ms/step - loss: 0.8490 - accuracy: 0.7060\n",
            "Epoch 5/10\n",
            "1874/1875 [============================>.] - ETA: 0s - loss: 0.7799 - accuracy: 0.7293\n",
            "Epoch 5: saving model to /content/drive/MyDrive/trained_model\n",
            "1875/1875 [==============================] - 7s 4ms/step - loss: 0.7799 - accuracy: 0.7293\n",
            "Epoch 6/10\n",
            "1875/1875 [==============================] - ETA: 0s - loss: 0.7370 - accuracy: 0.7443\n",
            "Epoch 6: saving model to /content/drive/MyDrive/trained_model\n",
            "1875/1875 [==============================] - 8s 4ms/step - loss: 0.7370 - accuracy: 0.7443\n",
            "Epoch 7/10\n",
            "1862/1875 [============================>.] - ETA: 0s - loss: 0.7050 - accuracy: 0.7558\n",
            "Epoch 7: saving model to /content/drive/MyDrive/trained_model\n",
            "1875/1875 [==============================] - 7s 4ms/step - loss: 0.7053 - accuracy: 0.7557\n",
            "Epoch 8/10\n",
            "1866/1875 [============================>.] - ETA: 0s - loss: 0.6806 - accuracy: 0.7640\n",
            "Epoch 8: saving model to /content/drive/MyDrive/trained_model\n",
            "1875/1875 [==============================] - 8s 4ms/step - loss: 0.6804 - accuracy: 0.7639\n",
            "Epoch 9/10\n",
            "1872/1875 [============================>.] - ETA: 0s - loss: 0.6602 - accuracy: 0.7711\n",
            "Epoch 9: saving model to /content/drive/MyDrive/trained_model\n",
            "1875/1875 [==============================] - 8s 4ms/step - loss: 0.6601 - accuracy: 0.7710\n",
            "Epoch 10/10\n",
            "1871/1875 [============================>.] - ETA: 0s - loss: 0.6431 - accuracy: 0.7781\n",
            "Epoch 10: saving model to /content/drive/MyDrive/trained_model\n",
            "1875/1875 [==============================] - 8s 4ms/step - loss: 0.6431 - accuracy: 0.7781\n"
          ]
        }
      ]
    },
    {
      "cell_type": "code",
      "source": [
        "\"layer == 3 : sgd\"\n",
        "model_6 = tf.keras.Sequential([\n",
        "    tf.keras.layers.Conv2D(filters = 6, kernel_size = 3, activation='relu', padding=\"same\", input_shape=(28, 28, 1)),\n",
        "    tf.keras.layers.Conv2D(filters = 6, kernel_size = 3, activation='relu', padding=\"same\", input_shape=(28, 28, 1)),\n",
        "    tf.keras.layers.Conv2D(filters = 6, kernel_size = 3, activation='relu', padding=\"same\", input_shape=(28, 28, 1)),\n",
        "    tf.keras.layers.Flatten(input_shape=(28, 28)),\n",
        "    tf.keras.layers.Dense(128, activation='relu'),\n",
        "    tf.keras.layers.Dense(10)])\n",
        "#  # filter PPT 참고, kernel 3X3, 1D로 바뀌었으므로 shape 다시 지정\n",
        "model_6.summary()\n",
        "\n",
        "model_6.compile(optimizer= \"sgd\",\n",
        "              loss=tf.keras.losses.SparseCategoricalCrossentropy(from_logits=True),\n",
        "              metrics=['accuracy'])\n",
        "\n",
        "model_6.fit(train_images, train_labels, epochs=10, callbacks=[cp_callback])\n",
        "\n",
        "# save your model\n",
        "model_6.save('./ checkpoints / 3-(f)_3_layer_conv_sgd . hdf5')"
      ],
      "metadata": {
        "id": "iuLxfXZ42I3q",
        "colab": {
          "base_uri": "https://localhost:8080/"
        },
        "outputId": "9681f602-4c44-4455-d148-9f230983f1cf"
      },
      "execution_count": null,
      "outputs": [
        {
          "output_type": "stream",
          "name": "stdout",
          "text": [
            "Model: \"sequential_11\"\n",
            "_________________________________________________________________\n",
            " Layer (type)                Output Shape              Param #   \n",
            "=================================================================\n",
            " conv2d_17 (Conv2D)          (None, 28, 28, 6)         60        \n",
            "                                                                 \n",
            " conv2d_18 (Conv2D)          (None, 28, 28, 6)         330       \n",
            "                                                                 \n",
            " conv2d_19 (Conv2D)          (None, 28, 28, 6)         330       \n",
            "                                                                 \n",
            " flatten_10 (Flatten)        (None, 4704)              0         \n",
            "                                                                 \n",
            " dense_20 (Dense)            (None, 128)               602240    \n",
            "                                                                 \n",
            " dense_21 (Dense)            (None, 10)                1290      \n",
            "                                                                 \n",
            "=================================================================\n",
            "Total params: 604250 (2.31 MB)\n",
            "Trainable params: 604250 (2.31 MB)\n",
            "Non-trainable params: 0 (0.00 Byte)\n",
            "_________________________________________________________________\n",
            "Epoch 1/10\n",
            "1866/1875 [============================>.] - ETA: 0s - loss: 0.6086 - accuracy: 0.7804\n",
            "Epoch 1: saving model to /content/drive/MyDrive/trained_model\n",
            "1875/1875 [==============================] - 9s 4ms/step - loss: 0.6081 - accuracy: 0.7806\n",
            "Epoch 2/10\n",
            "1872/1875 [============================>.] - ETA: 0s - loss: 0.4225 - accuracy: 0.8472\n",
            "Epoch 2: saving model to /content/drive/MyDrive/trained_model\n",
            "1875/1875 [==============================] - 7s 4ms/step - loss: 0.4224 - accuracy: 0.8473\n",
            "Epoch 3/10\n",
            "1873/1875 [============================>.] - ETA: 0s - loss: 0.3716 - accuracy: 0.8656\n",
            "Epoch 3: saving model to /content/drive/MyDrive/trained_model\n",
            "1875/1875 [==============================] - 9s 5ms/step - loss: 0.3717 - accuracy: 0.8656\n",
            "Epoch 4/10\n",
            "1868/1875 [============================>.] - ETA: 0s - loss: 0.3426 - accuracy: 0.8743\n",
            "Epoch 4: saving model to /content/drive/MyDrive/trained_model\n",
            "1875/1875 [==============================] - 8s 4ms/step - loss: 0.3426 - accuracy: 0.8743\n",
            "Epoch 5/10\n",
            "1867/1875 [============================>.] - ETA: 0s - loss: 0.3211 - accuracy: 0.8810\n",
            "Epoch 5: saving model to /content/drive/MyDrive/trained_model\n",
            "1875/1875 [==============================] - 8s 4ms/step - loss: 0.3213 - accuracy: 0.8811\n",
            "Epoch 6/10\n",
            "1861/1875 [============================>.] - ETA: 0s - loss: 0.3015 - accuracy: 0.8892\n",
            "Epoch 6: saving model to /content/drive/MyDrive/trained_model\n",
            "1875/1875 [==============================] - 7s 4ms/step - loss: 0.3010 - accuracy: 0.8894\n",
            "Epoch 7/10\n",
            "1875/1875 [==============================] - ETA: 0s - loss: 0.2854 - accuracy: 0.8949\n",
            "Epoch 7: saving model to /content/drive/MyDrive/trained_model\n",
            "1875/1875 [==============================] - 7s 4ms/step - loss: 0.2854 - accuracy: 0.8949\n",
            "Epoch 8/10\n",
            "1870/1875 [============================>.] - ETA: 0s - loss: 0.2707 - accuracy: 0.8992\n",
            "Epoch 8: saving model to /content/drive/MyDrive/trained_model\n",
            "1875/1875 [==============================] - 8s 4ms/step - loss: 0.2707 - accuracy: 0.8991\n",
            "Epoch 9/10\n",
            "1869/1875 [============================>.] - ETA: 0s - loss: 0.2564 - accuracy: 0.9048\n",
            "Epoch 9: saving model to /content/drive/MyDrive/trained_model\n",
            "1875/1875 [==============================] - 7s 4ms/step - loss: 0.2564 - accuracy: 0.9048\n",
            "Epoch 10/10\n",
            "1874/1875 [============================>.] - ETA: 0s - loss: 0.2443 - accuracy: 0.9088\n",
            "Epoch 10: saving model to /content/drive/MyDrive/trained_model\n",
            "1875/1875 [==============================] - 8s 4ms/step - loss: 0.2443 - accuracy: 0.9087\n"
          ]
        }
      ]
    },
    {
      "cell_type": "code",
      "source": [
        "\"layer == 3 : RMSprop\"\n",
        "model_7 = tf.keras.Sequential([\n",
        "    tf.keras.layers.Conv2D(filters = 6, kernel_size = 3, activation='relu', padding=\"same\", input_shape=(28, 28, 1)),\n",
        "    tf.keras.layers.Conv2D(filters = 6, kernel_size = 3, activation='relu', padding=\"same\", input_shape=(28, 28, 1)),\n",
        "    tf.keras.layers.Conv2D(filters = 6, kernel_size = 3, activation='relu', padding=\"same\", input_shape=(28, 28, 1)),\n",
        "    tf.keras.layers.Flatten(input_shape=(28, 28)),\n",
        "    tf.keras.layers.Dense(128, activation='relu'),\n",
        "    tf.keras.layers.Dense(10)])\n",
        "#  # filter PPT 참고, kernel 3X3, 1D로 바뀌었으므로 shape 다시 지정\n",
        "model_7.summary()\n",
        "\n",
        "model_7.compile(optimizer= \"rmsprop\",\n",
        "              loss=tf.keras.losses.SparseCategoricalCrossentropy(from_logits=True),\n",
        "              metrics=['accuracy'])\n",
        "\n",
        "model_7.fit(train_images, train_labels, epochs=10, callbacks=[cp_callback])\n",
        "\n",
        "# save your model\n",
        "model_7.save('./ checkpoints / 3-(f)_3_layer_conv_rmsprop . hdf5')"
      ],
      "metadata": {
        "id": "IPJ7ICeK2n4Y",
        "colab": {
          "base_uri": "https://localhost:8080/"
        },
        "outputId": "9fca616a-4fcb-4a19-eb67-c430dd4ea5f9"
      },
      "execution_count": null,
      "outputs": [
        {
          "output_type": "stream",
          "name": "stdout",
          "text": [
            "Model: \"sequential_12\"\n",
            "_________________________________________________________________\n",
            " Layer (type)                Output Shape              Param #   \n",
            "=================================================================\n",
            " conv2d_20 (Conv2D)          (None, 28, 28, 6)         60        \n",
            "                                                                 \n",
            " conv2d_21 (Conv2D)          (None, 28, 28, 6)         330       \n",
            "                                                                 \n",
            " conv2d_22 (Conv2D)          (None, 28, 28, 6)         330       \n",
            "                                                                 \n",
            " flatten_11 (Flatten)        (None, 4704)              0         \n",
            "                                                                 \n",
            " dense_22 (Dense)            (None, 128)               602240    \n",
            "                                                                 \n",
            " dense_23 (Dense)            (None, 10)                1290      \n",
            "                                                                 \n",
            "=================================================================\n",
            "Total params: 604250 (2.31 MB)\n",
            "Trainable params: 604250 (2.31 MB)\n",
            "Non-trainable params: 0 (0.00 Byte)\n",
            "_________________________________________________________________\n",
            "Epoch 1/10\n",
            "1866/1875 [============================>.] - ETA: 0s - loss: 0.4130 - accuracy: 0.8514\n",
            "Epoch 1: saving model to /content/drive/MyDrive/trained_model\n",
            "1875/1875 [==============================] - 9s 4ms/step - loss: 0.4128 - accuracy: 0.8514\n",
            "Epoch 2/10\n",
            "1873/1875 [============================>.] - ETA: 0s - loss: 0.2607 - accuracy: 0.9066\n",
            "Epoch 2: saving model to /content/drive/MyDrive/trained_model\n",
            "1875/1875 [==============================] - 7s 4ms/step - loss: 0.2608 - accuracy: 0.9065\n",
            "Epoch 3/10\n",
            "1872/1875 [============================>.] - ETA: 0s - loss: 0.2101 - accuracy: 0.9235\n",
            "Epoch 3: saving model to /content/drive/MyDrive/trained_model\n",
            "1875/1875 [==============================] - 7s 4ms/step - loss: 0.2104 - accuracy: 0.9233\n",
            "Epoch 4/10\n",
            "1872/1875 [============================>.] - ETA: 0s - loss: 0.1764 - accuracy: 0.9364\n",
            "Epoch 4: saving model to /content/drive/MyDrive/trained_model\n",
            "1875/1875 [==============================] - 8s 4ms/step - loss: 0.1765 - accuracy: 0.9364\n",
            "Epoch 5/10\n",
            "1868/1875 [============================>.] - ETA: 0s - loss: 0.1499 - accuracy: 0.9466\n",
            "Epoch 5: saving model to /content/drive/MyDrive/trained_model\n",
            "1875/1875 [==============================] - 8s 4ms/step - loss: 0.1501 - accuracy: 0.9466\n",
            "Epoch 6/10\n",
            "1868/1875 [============================>.] - ETA: 0s - loss: 0.1265 - accuracy: 0.9557\n",
            "Epoch 6: saving model to /content/drive/MyDrive/trained_model\n",
            "1875/1875 [==============================] - 8s 4ms/step - loss: 0.1265 - accuracy: 0.9556\n",
            "Epoch 7/10\n",
            "1870/1875 [============================>.] - ETA: 0s - loss: 0.1086 - accuracy: 0.9624\n",
            "Epoch 7: saving model to /content/drive/MyDrive/trained_model\n",
            "1875/1875 [==============================] - 7s 4ms/step - loss: 0.1085 - accuracy: 0.9624\n",
            "Epoch 8/10\n",
            "1863/1875 [============================>.] - ETA: 0s - loss: 0.0917 - accuracy: 0.9682\n",
            "Epoch 8: saving model to /content/drive/MyDrive/trained_model\n",
            "1875/1875 [==============================] - 8s 4ms/step - loss: 0.0917 - accuracy: 0.9681\n",
            "Epoch 9/10\n",
            "1872/1875 [============================>.] - ETA: 0s - loss: 0.0776 - accuracy: 0.9731\n",
            "Epoch 9: saving model to /content/drive/MyDrive/trained_model\n",
            "1875/1875 [==============================] - 7s 4ms/step - loss: 0.0777 - accuracy: 0.9731\n",
            "Epoch 10/10\n",
            "1869/1875 [============================>.] - ETA: 0s - loss: 0.0676 - accuracy: 0.9765\n",
            "Epoch 10: saving model to /content/drive/MyDrive/trained_model\n",
            "1875/1875 [==============================] - 8s 4ms/step - loss: 0.0677 - accuracy: 0.9765\n"
          ]
        }
      ]
    }
  ],
  "metadata": {
    "colab": {
      "provenance": [],
      "gpuType": "T4"
    },
    "kernelspec": {
      "display_name": "Python 3",
      "name": "python3"
    },
    "accelerator": "GPU"
  },
  "nbformat": 4,
  "nbformat_minor": 0
}